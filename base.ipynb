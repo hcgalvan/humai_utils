{
 "cells": [
  {
   "cell_type": "code",
   "execution_count": 1,
   "metadata": {},
   "outputs": [
    {
     "name": "stdout",
     "output_type": "stream",
     "text": [
      "Writing functions.py\n"
     ]
    }
   ],
   "source": [
    "%%writefile functions.py\n",
    "# No usamos este paquete pero igual lo importamos para generar una dependencia.\n",
    "import requests\n",
    "\n",
    "def saludar_comunidad():\n",
    "\tprint('Hola comunidad de Humai')\n",
    "\n",
    "def informar_clase():\n",
    "\tprint('La siguiente clase es el lunes')"
   ]
  },
  {
   "cell_type": "code",
   "execution_count": 2,
   "metadata": {},
   "outputs": [
    {
     "name": "stdout",
     "output_type": "stream",
     "text": [
      "# No usamos este paquete pero igual lo importamos para generar una dependencia.\n",
      "import requests\n",
      "\n",
      "def saludar_comunidad():\n",
      "\tprint('Hola comunidad de Humai')\n",
      "\n",
      "def informar_clase():\n",
      "\tprint('La siguiente clase es el lunes')\n"
     ]
    }
   ],
   "source": [
    "!cat functions.py"
   ]
  },
  {
   "cell_type": "code",
   "execution_count": 1,
   "metadata": {},
   "outputs": [
    {
     "name": "stdout",
     "output_type": "stream",
     "text": [
      "Writing setup.py\n"
     ]
    }
   ],
   "source": [
    "%%writefile setup.py\n",
    "import setuptools\n",
    "\n",
    "with open(\"DESCRIPTION.md\", \"r\", encoding=\"utf-8\") as fh:\n",
    "    long_description = fh.read()\n",
    "\n",
    "setuptools.setup(\n",
    "    name='humai_utils',\n",
    "    version='0.1.0',\n",
    "    author='Ramiro Savoie',\n",
    "    author_email='ramiro@deployr.ai',\n",
    "    description='A compilation of Humai utility functions',\n",
    "    long_description=long_description,\n",
    "    long_description_content_type=\"text/markdown\",\n",
    "    url='https://github.com/institutohumai/humai_utils',\n",
    "    project_urls = {\n",
    "        \"Bug Tracker\": \"https://github.com/institutohumai/humai_utils/issues\"\n",
    "    },\n",
    "    license='MIT',\n",
    "    packages=['humai_utils'],\n",
    "    install_requires=['requests'],\n",
    ")"
   ]
  },
  {
   "cell_type": "code",
   "execution_count": 2,
   "metadata": {},
   "outputs": [
    {
     "name": "stdout",
     "output_type": "stream",
     "text": [
      "import setuptools\n",
      "\n",
      "with open(\"DESCRIPTION.md\", \"r\", encoding=\"utf-8\") as fh:\n",
      "    long_description = fh.read()\n",
      "\n",
      "setuptools.setup(\n",
      "    name='humai_utils',\n",
      "    version='0.1.0',\n",
      "    author='Ramiro Savoie',\n",
      "    author_email='ramiro@deployr.ai',\n",
      "    description='A compilation of Humai utility functions',\n",
      "    long_description=long_description,\n",
      "    long_description_content_type=\"text/markdown\",\n",
      "    url='https://github.com/institutohumai/humai_utils',\n",
      "    project_urls = {\n",
      "        \"Bug Tracker\": \"https://github.com/institutohumai/humai_utils/issues\"\n",
      "    },\n",
      "    license='MIT',\n",
      "    packages=['humai_utils'],\n",
      "    install_requires=['requests'],\n",
      ")\n"
     ]
    }
   ],
   "source": [
    "!cat setup.py"
   ]
  }
 ],
 "metadata": {
  "kernelspec": {
   "display_name": "Python 3",
   "language": "python",
   "name": "python3"
  },
  "language_info": {
   "codemirror_mode": {
    "name": "ipython",
    "version": 3
   },
   "file_extension": ".py",
   "mimetype": "text/x-python",
   "name": "python",
   "nbconvert_exporter": "python",
   "pygments_lexer": "ipython3",
   "version": "3.10.7"
  },
  "orig_nbformat": 4,
  "vscode": {
   "interpreter": {
    "hash": "916dbcbb3f70747c44a77c7bcd40155683ae19c65e1c03b4aa3499c5328201f1"
   }
  }
 },
 "nbformat": 4,
 "nbformat_minor": 2
}
